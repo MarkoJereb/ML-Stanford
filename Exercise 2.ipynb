{
 "cells": [
  {
   "cell_type": "markdown",
   "metadata": {},
   "source": [
    "# Exercise 2: Logistic regression"
   ]
  },
  {
   "cell_type": "markdown",
   "metadata": {},
   "source": [
    "## Introduction\n",
    "In this exercise, you will implement logistic regression\n",
    "and apply it to two different datasets. Before starting on the programming exercise,\n",
    "we strongly recommend watching the video lectures and completing the review questions\n",
    "for the associated topics.\n",
    "\n",
    "All the information you need for solving this assignment is in this notebook, and all the code you\n",
    "will be implementing will take place within this notebook. \n",
    "\n",
    "In this part, you will build a logistic regression model to predict whether a student gets admitted into a university. Suppose that you are the administrator of a university department and\n",
    "you want to determine each applicant's chance of admission based on their\n",
    "results on two exams. You have historical data from previous applicants\n",
    "that you can use as a training set for logistic regression. For each training\n",
    "example, you have the applicant's scores on two exams and the admissions\n",
    "decision.\n",
    "Your task is to build a classification model that estimates an applicant's\n",
    "probability of admission based the scores from those two exams."
   ]
  },
  {
   "cell_type": "code",
   "execution_count": 1,
   "metadata": {
    "collapsed": true
   },
   "outputs": [],
   "source": [
    "# importing necessary libraries\n",
    "import pandas as pd\n",
    "import numpy as np\n",
    "import matplotlib.pyplot as plt\n",
    "import scipy.optimize as opt"
   ]
  },
  {
   "cell_type": "markdown",
   "metadata": {},
   "source": [
    "### Visualizing the data\n",
    "Before starting to implement any learning algorithm, it is always good to\n",
    "visualize the data if possible."
   ]
  },
  {
   "cell_type": "code",
   "execution_count": 2,
   "metadata": {},
   "outputs": [
    {
     "data": {
      "text/html": [
       "<div>\n",
       "<style>\n",
       "    .dataframe thead tr:only-child th {\n",
       "        text-align: right;\n",
       "    }\n",
       "\n",
       "    .dataframe thead th {\n",
       "        text-align: left;\n",
       "    }\n",
       "\n",
       "    .dataframe tbody tr th {\n",
       "        vertical-align: top;\n",
       "    }\n",
       "</style>\n",
       "<table border=\"1\" class=\"dataframe\">\n",
       "  <thead>\n",
       "    <tr style=\"text-align: right;\">\n",
       "      <th></th>\n",
       "      <th>Exam 1</th>\n",
       "      <th>Exam 2</th>\n",
       "      <th>Admission</th>\n",
       "    </tr>\n",
       "  </thead>\n",
       "  <tbody>\n",
       "    <tr>\n",
       "      <th>0</th>\n",
       "      <td>34.623660</td>\n",
       "      <td>78.024693</td>\n",
       "      <td>0</td>\n",
       "    </tr>\n",
       "    <tr>\n",
       "      <th>1</th>\n",
       "      <td>30.286711</td>\n",
       "      <td>43.894998</td>\n",
       "      <td>0</td>\n",
       "    </tr>\n",
       "    <tr>\n",
       "      <th>2</th>\n",
       "      <td>35.847409</td>\n",
       "      <td>72.902198</td>\n",
       "      <td>0</td>\n",
       "    </tr>\n",
       "    <tr>\n",
       "      <th>3</th>\n",
       "      <td>60.182599</td>\n",
       "      <td>86.308552</td>\n",
       "      <td>1</td>\n",
       "    </tr>\n",
       "    <tr>\n",
       "      <th>4</th>\n",
       "      <td>79.032736</td>\n",
       "      <td>75.344376</td>\n",
       "      <td>1</td>\n",
       "    </tr>\n",
       "    <tr>\n",
       "      <th>5</th>\n",
       "      <td>45.083277</td>\n",
       "      <td>56.316372</td>\n",
       "      <td>0</td>\n",
       "    </tr>\n",
       "    <tr>\n",
       "      <th>6</th>\n",
       "      <td>61.106665</td>\n",
       "      <td>96.511426</td>\n",
       "      <td>1</td>\n",
       "    </tr>\n",
       "    <tr>\n",
       "      <th>7</th>\n",
       "      <td>75.024746</td>\n",
       "      <td>46.554014</td>\n",
       "      <td>1</td>\n",
       "    </tr>\n",
       "  </tbody>\n",
       "</table>\n",
       "</div>"
      ],
      "text/plain": [
       "      Exam 1     Exam 2  Admission\n",
       "0  34.623660  78.024693          0\n",
       "1  30.286711  43.894998          0\n",
       "2  35.847409  72.902198          0\n",
       "3  60.182599  86.308552          1\n",
       "4  79.032736  75.344376          1\n",
       "5  45.083277  56.316372          0\n",
       "6  61.106665  96.511426          1\n",
       "7  75.024746  46.554014          1"
      ]
     },
     "execution_count": 2,
     "metadata": {},
     "output_type": "execute_result"
    }
   ],
   "source": [
    "data = pd.read_csv(\"ex2data1.txt\", header = None, names = [\"Exam 1\", \"Exam 2\", \"Admission\"])\n",
    "X = data.iloc[:,:-1] \n",
    "y = data.iloc[:,2]\n",
    "data.head(n = 8)"
   ]
  },
  {
   "cell_type": "code",
   "execution_count": 3,
   "metadata": {},
   "outputs": [
    {
     "data": {
      "image/png": "[encoded data removed]",
      "text/plain": [
       "<matplotlib.figure.Figure at 0x123d317b8>"
      ]
     },
     "metadata": {},
     "output_type": "display_data"
    }
   ],
   "source": [
    "pos = y == 1\n",
    "neg = y == 0\n",
    "adm = plt.scatter(X[pos].values[:,0], X[pos].values[:,1])\n",
    "not_adm = plt.scatter(X[neg].values[:,0], X[neg].values[:,1])\n",
    "plt.xlabel(\"Exam 1 score\")\n",
    "plt.ylabel(\"Exam 2 score\")\n",
    "plt.legend((adm, not_adm), (\"admitted\", \"not admitted\"))\n",
    "plt.show()"
   ]
  },
  {
   "cell_type": "code",
   "execution_count": 4,
   "metadata": {
    "collapsed": true
   },
   "outputs": [],
   "source": [
    "# sigmoid function\n",
    "def sigmoid(x):\n",
    "    '''sigmoid function in vectorized code'''\n",
    "    s_x = 1 / (1 + np.exp(-x))\n",
    "    \n",
    "    return s_x"
   ]
  },
  {
   "cell_type": "code",
   "execution_count": 5,
   "metadata": {
    "collapsed": true
   },
   "outputs": [],
   "source": [
    "# cost function\n",
    "def costFunction(theta, X, y):\n",
    "    '''computes cost of learning function for given theta parameters'''\n",
    "    \n",
    "    J = (-1/m) * np.sum(np.multiply(y, np.log(sigmoid(X @ theta))) \n",
    "        + np.multiply((1-y), np.log(1 - sigmoid(X @ theta))))\n",
    "    return J"
   ]
  },
  {
   "cell_type": "code",
   "execution_count": 6,
   "metadata": {
    "collapsed": true
   },
   "outputs": [],
   "source": [
    "# gradient of cost function\n",
    "def gradient(theta, X, y):\n",
    "    '''gradient of cost function'''\n",
    "     \n",
    "    return ((1/m) * X.T @ (sigmoid(X @ theta) - y))"
   ]
  },
  {
   "cell_type": "code",
   "execution_count": 7,
   "metadata": {},
   "outputs": [
    {
     "name": "stdout",
     "output_type": "stream",
     "text": [
      "Cost fo theta parameters [ 0.  0.  0.]  is  0.69314718056\n"
     ]
    }
   ],
   "source": [
    "(m, n) = X.shape\n",
    "X = np.hstack((np.ones((m, 1)), X))\n",
    "y = y[:, np.newaxis]\n",
    "theta = np.zeros((n + 1, 1))\n",
    "\n",
    "J = costFunction(theta, X, y)\n",
    "print(\"Cost fo theta parameters\", theta.flatten(), \" is \", J)"
   ]
  },
  {
   "cell_type": "code",
   "execution_count": 8,
   "metadata": {},
   "outputs": [
    {
     "name": "stdout",
     "output_type": "stream",
     "text": [
      "Gradient of theta  [ 0.  0.  0.] is [ -0.1        -12.00921659 -11.26284221]\n"
     ]
    }
   ],
   "source": [
    "grad = gradient(theta, X, y)\n",
    "print(\"Gradient of theta \", theta.flatten(), \"is\", grad.flatten())"
   ]
  },
  {
   "cell_type": "code",
   "execution_count": 9,
   "metadata": {},
   "outputs": [
    {
     "name": "stdout",
     "output_type": "stream",
     "text": [
      "Optimized theta parameters are  [-25.16131859   0.20623159   0.20147149]\n"
     ]
    }
   ],
   "source": [
    "# optimize cost function with Newton Conjugate-Gradient algorithm\n",
    "opt_cost = opt.fmin_tnc(func=costFunction, x0=theta.flatten(), fprime=gradient,\n",
    "                       args=(X, y.flatten()))\n",
    "# solution is in first element of ndarray \n",
    "opt_theta = opt_cost[0] \n",
    "print(\"Optimized theta parameters are \", opt_theta)"
   ]
  },
  {
   "cell_type": "code",
   "execution_count": 10,
   "metadata": {},
   "outputs": [
    {
     "name": "stdout",
     "output_type": "stream",
     "text": [
      "Cost for optimized theta parameters is  0.203497701589\n"
     ]
    }
   ],
   "source": [
    "J_opt = costFunction(opt_theta[:,np.newaxis], X, y)\n",
    "print(\"Cost for optimized theta parameters is \", J_opt)"
   ]
  },
  {
   "cell_type": "code",
   "execution_count": 11,
   "metadata": {},
   "outputs": [
    {
     "name": "stdout",
     "output_type": "stream",
     "text": [
      "Student with exam scores 45 and 85 has 77.63% chance of being admitted. \n"
     ]
    }
   ],
   "source": [
    "# predict if student with exam scores 45 and 85 will be admitted\n",
    "pred_score = sigmoid(np.array([1, 45, 85]).T.dot(opt_theta))\n",
    "print(\"Student with exam scores 45 and 85 has {:.2f}% chance of being admitted. \".format(pred_score * 100))\n"
   ]
  },
  {
   "cell_type": "code",
   "execution_count": 12,
   "metadata": {},
   "outputs": [
    {
     "data": {
      "image/png": "[encoded data removed]",
      "text/plain": [
       "<matplotlib.figure.Figure at 0x123cdf080>"
      ]
     },
     "metadata": {},
     "output_type": "display_data"
    }
   ],
   "source": [
    "# points for regression line\n",
    "plot_x = [np.min(X[:,1]-2), np.max(X[:,2]+2)]\n",
    "plot_y = -1/opt_theta[2]*(opt_theta[0] \n",
    "          + np.dot(opt_theta[1],plot_x))\n",
    "\n",
    "# plot point of student with exam score 45 and 85\n",
    "plt.scatter(45, 85, s=60, c='r', marker='v', label='(45, 85)')\n",
    "\n",
    "# data points\n",
    "pos = y.flatten() == 1\n",
    "neg = y.flatten() == 0\n",
    "adm = plt.scatter(X[pos][:,1], X[pos][:,2])\n",
    "not_adm = plt.scatter(X[neg][:,1], X[neg][:,2])\n",
    "decision_boun = plt.plot(plot_x, plot_y)\n",
    "plt.xlabel('Exam 1 score')\n",
    "plt.ylabel('Exam 2 score')\n",
    "plt.legend((adm, not_adm), ('Admitted', 'Not admitted'))\n",
    "plt.show()"
   ]
  },
  {
   "cell_type": "code",
   "execution_count": 13,
   "metadata": {},
   "outputs": [
    {
     "name": "stdout",
     "output_type": "stream",
     "text": [
      "Our learning function predicts 89.0% of training data correctly.\n"
     ]
    }
   ],
   "source": [
    "def accuracy(X, y, theta, cutoff):\n",
    "    '''computes accuracy of training model'''\n",
    "    pred = [sigmoid(np.dot(X, theta)) >= cutoff]\n",
    "    acc = np.mean(pred == y)\n",
    "    return acc\n",
    "\n",
    "predict = accuracy(X, y.flatten(), opt_theta, 0.5)\n",
    "print(\"Our learning function predicts {:.1f}% of training data correctly.\".format(predict * 100))"
   ]
  },
  {
   "cell_type": "markdown",
   "metadata": {
    "collapsed": true
   },
   "source": [
    "## Regularized logistic regression"
   ]
  },
  {
   "cell_type": "markdown",
   "metadata": {},
   "source": [
    "In this part of the exercise, you will implement regularized logistic regression\n",
    "to predict whether microchips from a fabrication plant passes quality assur-\n",
    "ance (QA). During QA, each microchip goes through various tests to ensure\n",
    "it is functioning correctly.\n",
    "Suppose you are the product manager of the factory and you have the\n",
    "test results for some microchips on two di\u000b",
    "erent tests. From these two tests,\n",
    "you would like to determine whether the microchips should be accepted or\n",
    "rejected. To help you make the decision, you have a dataset of test results\n",
    "on past microchips, from which you can build a logistic regression model."
   ]
  },
  {
   "cell_type": "markdown",
   "metadata": {},
   "source": [
    "### Visualizing data"
   ]
  },
  {
   "cell_type": "code",
   "execution_count": 14,
   "metadata": {},
   "outputs": [
    {
     "data": {
      "text/html": [
       "<div>\n",
       "<style>\n",
       "    .dataframe thead tr:only-child th {\n",
       "        text-align: right;\n",
       "    }\n",
       "\n",
       "    .dataframe thead th {\n",
       "        text-align: left;\n",
       "    }\n",
       "\n",
       "    .dataframe tbody tr th {\n",
       "        vertical-align: top;\n",
       "    }\n",
       "</style>\n",
       "<table border=\"1\" class=\"dataframe\">\n",
       "  <thead>\n",
       "    <tr style=\"text-align: right;\">\n",
       "      <th></th>\n",
       "      <th>Test1</th>\n",
       "      <th>Test2</th>\n",
       "      <th>Quality</th>\n",
       "    </tr>\n",
       "  </thead>\n",
       "  <tbody>\n",
       "    <tr>\n",
       "      <th>0</th>\n",
       "      <td>0.051267</td>\n",
       "      <td>0.699560</td>\n",
       "      <td>1</td>\n",
       "    </tr>\n",
       "    <tr>\n",
       "      <th>1</th>\n",
       "      <td>-0.092742</td>\n",
       "      <td>0.684940</td>\n",
       "      <td>1</td>\n",
       "    </tr>\n",
       "    <tr>\n",
       "      <th>2</th>\n",
       "      <td>-0.213710</td>\n",
       "      <td>0.692250</td>\n",
       "      <td>1</td>\n",
       "    </tr>\n",
       "    <tr>\n",
       "      <th>3</th>\n",
       "      <td>-0.375000</td>\n",
       "      <td>0.502190</td>\n",
       "      <td>1</td>\n",
       "    </tr>\n",
       "    <tr>\n",
       "      <th>4</th>\n",
       "      <td>-0.513250</td>\n",
       "      <td>0.465640</td>\n",
       "      <td>1</td>\n",
       "    </tr>\n",
       "    <tr>\n",
       "      <th>5</th>\n",
       "      <td>-0.524770</td>\n",
       "      <td>0.209800</td>\n",
       "      <td>1</td>\n",
       "    </tr>\n",
       "    <tr>\n",
       "      <th>6</th>\n",
       "      <td>-0.398040</td>\n",
       "      <td>0.034357</td>\n",
       "      <td>1</td>\n",
       "    </tr>\n",
       "    <tr>\n",
       "      <th>7</th>\n",
       "      <td>-0.305880</td>\n",
       "      <td>-0.192250</td>\n",
       "      <td>1</td>\n",
       "    </tr>\n",
       "  </tbody>\n",
       "</table>\n",
       "</div>"
      ],
      "text/plain": [
       "      Test1     Test2  Quality\n",
       "0  0.051267  0.699560        1\n",
       "1 -0.092742  0.684940        1\n",
       "2 -0.213710  0.692250        1\n",
       "3 -0.375000  0.502190        1\n",
       "4 -0.513250  0.465640        1\n",
       "5 -0.524770  0.209800        1\n",
       "6 -0.398040  0.034357        1\n",
       "7 -0.305880 -0.192250        1"
      ]
     },
     "execution_count": 14,
     "metadata": {},
     "output_type": "execute_result"
    }
   ],
   "source": [
    "data2 = pd.read_csv(\"ex2data2.txt\", header=None, names=[\"Test1\", \"Test2\", \"Quality\"])\n",
    "X2 = data2.iloc[:,:-1]\n",
    "y2 = data2.iloc[:,2]\n",
    "data2.head(n=8)"
   ]
  },
  {
   "cell_type": "code",
   "execution_count": 15,
   "metadata": {},
   "outputs": [
    {
     "data": {
      "image/png": "[encoded data removed]",
      "text/plain": [
       "<matplotlib.figure.Figure at 0x123e9aba8>"
      ]
     },
     "metadata": {},
     "output_type": "display_data"
    }
   ],
   "source": [
    "pos = y2==1\n",
    "neg = y2==0\n",
    "accepted = plt.scatter(X2[pos].values[:,0], X2[pos].values[:,1])\n",
    "rejected = plt.scatter(X2[neg].values[:,0], X2[neg].values[:,1])\n",
    "plt.xlabel(\"Microchip test 1\")\n",
    "plt.ylabel(\"Microchip test 2\")\n",
    "plt.legend((accepted, rejected), (\"Accepted\", \"Rejected\"))\n",
    "plt.show()"
   ]
  },
  {
   "cell_type": "markdown",
   "metadata": {},
   "source": [
    "Plot of training data shows that our dataset cannot be separated into positive and\n",
    "negative examples by a straight-line through the plot. Therefore, a straight-\n",
    "forward application of logistic regression will not perform well on this dataset\n",
    "since logistic regression will only be able to find a linear decision boundary.\n",
    "One way to fit the data better is to create more features from each data\n",
    "point. For better decision boundary we will map the features of all polynomial terms of x1 and x2 up to the sixth power."
   ]
  },
  {
   "cell_type": "markdown",
   "metadata": {},
   "source": [
    "### Feature mapping"
   ]
  },
  {
   "cell_type": "code",
   "execution_count": 16,
   "metadata": {
    "collapsed": true
   },
   "outputs": [],
   "source": [
    "def featureMap(X_1, X_2, degree):\n",
    "    '''feature mapping function'''\n",
    "    \n",
    "    X_map = np.ones((X_1.shape[0], 1))\n",
    "    \n",
    "    for i in range(1, degree + 1):\n",
    "        for j in range(i + 1):\n",
    "            X_map = np.hstack((X_map, np.multiply(np.power(X_1, i - j), np.power(X_2, j))\n",
    "                              [:,np.newaxis]))\n",
    "            \n",
    "    return X_map"
   ]
  },
  {
   "cell_type": "code",
   "execution_count": 17,
   "metadata": {
    "collapsed": true
   },
   "outputs": [],
   "source": [
    "X2 = featureMap(X2.iloc[:,0], X2.iloc[:,1], degree=6)"
   ]
  },
  {
   "cell_type": "code",
   "execution_count": 19,
   "metadata": {},
   "outputs": [
    {
     "name": "stdout",
     "output_type": "stream",
     "text": [
      "New shape of feature data is  (118, 28)\n"
     ]
    }
   ],
   "source": [
    "print(\"New shape of feature data is \", X2.shape)"
   ]
  },
  {
   "cell_type": "code",
   "execution_count": 20,
   "metadata": {
    "collapsed": true
   },
   "outputs": [],
   "source": [
    "# cost function for regularized logistic regression\n",
    "def regCost(theta, X, y, lambda_r):\n",
    "    \n",
    "    m = len(y)\n",
    "    J_theta = (-1/m) * (y.T @ np.log(sigmoid(X @ theta)) + (1 - y.T) @ np.log(1 - sigmoid(X @ theta)))\n",
    "    # regulize all theta parameters except theta 0 \n",
    "    reg = (lambda_r / (2*m)) * (theta[1:].T @ theta[1:]) \n",
    "    J_theta = J_theta + reg\n",
    "    \n",
    "    return J_theta"
   ]
  },
  {
   "cell_type": "code",
   "execution_count": 21,
   "metadata": {
    "collapsed": true
   },
   "outputs": [],
   "source": [
    "# gradient of cost function for regularized logistic regression\n",
    "def regGrad(theta, X, y, lambda_r):\n",
    "    \n",
    "    m = len(y)\n",
    "    grad = np.zeros([m, 1])\n",
    "    grad = (1/m) * X.T @ (sigmoid(X @ theta) - y)\n",
    "    grad[1:] = grad[1:] + (lambda_r/m) * theta[1:]\n",
    "    \n",
    "    return grad"
   ]
  },
  {
   "cell_type": "code",
   "execution_count": 22,
   "metadata": {},
   "outputs": [
    {
     "name": "stdout",
     "output_type": "stream",
     "text": [
      "Cost of theta parameters [ 0.  0.  0.  0.  0.  0.  0.  0.  0.  0.  0.  0.  0.  0.  0.  0.  0.  0.\n",
      "  0.  0.  0.  0.  0.  0.  0.  0.  0.  0.]  is  [ 0.69314718]\n"
     ]
    }
   ],
   "source": [
    "(m, n) = X2.shape\n",
    "y2 = y2[:, np.newaxis]\n",
    "theta_r = np.zeros((n , 1))\n",
    "lambda_r = 1\n",
    "\n",
    "J_r = regCost(theta_r, X2, y2, lambda_r)\n",
    "print(\"Cost of theta parameters\", theta_r.flatten(), \" is \", J_r[0])"
   ]
  },
  {
   "cell_type": "code",
   "execution_count": 23,
   "metadata": {},
   "outputs": [
    {
     "name": "stdout",
     "output_type": "stream",
     "text": [
      "Optimized theta parameters are  [ 1.27271028  0.62529966  1.18111687 -2.01987399 -0.9174319  -1.43166932\n",
      "  0.12393226 -0.36553117 -0.35725403 -0.17516291 -1.4581701  -0.05098418\n",
      " -0.61558548 -0.27469165 -1.19271296 -0.24217841 -0.20603293 -0.04466179\n",
      " -0.27778955 -0.29539513 -0.45645982 -1.04319157  0.02779373 -0.29244876\n",
      "  0.01555762 -0.32742407 -0.14389151 -0.92467486]\n"
     ]
    }
   ],
   "source": [
    "optimize = opt.fmin_tnc(func=regCost, x0=theta_r.flatten(), fprime=regGrad,\n",
    "                        args=(X2, y2.flatten(), lambda_r))\n",
    "opt_theta_r = optimize[0]\n",
    "print(\"Optimized theta parameters are \", opt_theta_r)"
   ]
  },
  {
   "cell_type": "code",
   "execution_count": 24,
   "metadata": {},
   "outputs": [
    {
     "name": "stdout",
     "output_type": "stream",
     "text": [
      "Our learning function predicts 83.1% of training data correctly.\n"
     ]
    }
   ],
   "source": [
    "predict_r = accuracy(X2, y2.flatten(), opt_theta_r, 0.5)\n",
    "print(\"Our learning function predicts {:.1f}% of training data correctly.\".format(predict_r * 100))"
   ]
  },
  {
   "cell_type": "code",
   "execution_count": 31,
   "metadata": {},
   "outputs": [
    {
     "data": {
      "image/png": "[encoded data removed]",
      "text/plain": [
       "<matplotlib.figure.Figure at 0x1253f0128>"
      ]
     },
     "metadata": {},
     "output_type": "display_data"
    }
   ],
   "source": [
    "# plot of decision boundary\n",
    "\n",
    "u = np.linspace(-1, 1.5, 50)\n",
    "v = np.linspace(-1, 1.5, 50)\n",
    "z = np.zeros((len(u), len(v)))\n",
    "\n",
    "def mapFeatureForPlotting(X1, X2):\n",
    "    degree = 6\n",
    "    out = np.ones(1)\n",
    "    for i in range(1, degree+1):\n",
    "        for j in range(i+1):\n",
    "            out = np.hstack((out, np.multiply(np.power(X1, i-j), np.power(X2, j))))\n",
    "    return out\n",
    "\n",
    "for i in range(len(u)):\n",
    "    for j in range(len(v)):\n",
    "        z[i,j] = np.dot(mapFeatureForPlotting(u[i], v[j]), opt_theta_r)\n",
    "        \n",
    "pos = y2.flatten() == 1\n",
    "neg = y2.flatten() == 0\n",
    "X_plot = data2.iloc[:,:-1]\n",
    "accepted_plot = plt.scatter(X_plot[pos].values[:,0], X_plot[pos].values[:,1])\n",
    "rejected_plot = plt.scatter(X_plot[neg].values[:,0], X_plot[neg].values[:,1])\n",
    "plt.contour(u,v,z,0)\n",
    "plt.xlabel('Microchip Test1')\n",
    "plt.ylabel('Microchip Test2')\n",
    "plt.legend((accepted_plot, rejected_plot), ('Accepted', 'Rejected'))\n",
    "plt.title(\"Train accuracy {:.1f}% with lambda = {}.\".format(predict_r*100, 1))\n",
    "plt.show()"
   ]
  },
  {
   "cell_type": "code",
   "execution_count": null,
   "metadata": {
    "collapsed": true
   },
   "outputs": [],
   "source": []
  }
 ],
 "metadata": {
  "kernelspec": {
   "display_name": "Python 3",
   "language": "python",
   "name": "python3"
  },
  "language_info": {
   "codemirror_mode": {
    "name": "ipython",
    "version": 3
   },
   "file_extension": ".py",
   "mimetype": "text/x-python",
   "name": "python",
   "nbconvert_exporter": "python",
   "pygments_lexer": "ipython3",
   "version": "3.6.2"
  }
 },
 "nbformat": 4,
 "nbformat_minor": 2
}
